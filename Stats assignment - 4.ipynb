{
 "cells": [
  {
   "cell_type": "markdown",
   "id": "f5c77ab4",
   "metadata": {},
   "source": [
    "![](shiva.jpg)"
   ]
  },
  {
   "cell_type": "markdown",
   "id": "b0970f01",
   "metadata": {},
   "source": [
    "# Problem Statement 1:\n",
    "Is gender independent of education level? A random sample of 395 people were \n",
    "surveyed and each person was asked to report the highest education level they \n",
    "obtained. The data that resulted from the survey is summarized in the following table:\n",
    "High School Bachelors Masters Ph.d. Total\n",
    "Female 60 54 46 41 201\n",
    "Male 40 44 53 57 194\n",
    "Total 100 98 99 98 395\n",
    "Question: Are gender and education level dependent at 5% level of significance? In\n",
    "other words, given the data collected above, is there a relationship between the \n",
    "gender of an individual and the level of education that they have obtained?"
   ]
  },
  {
   "cell_type": "code",
   "execution_count": 1,
   "id": "5e7f2ae2",
   "metadata": {},
   "outputs": [],
   "source": [
    "import pandas as pd\n",
    "import numpy as np\n",
    "import scipy.stats as st"
   ]
  },
  {
   "cell_type": "code",
   "execution_count": 2,
   "id": "2c6ae08b",
   "metadata": {},
   "outputs": [],
   "source": [
    "#Chi square test\n",
    "df=pd.DataFrame(data={'High_School':[60,40,100],'Bachelors':[54,44,98],'Masters':[46,53,99],'Phd':[41,57,98],'Row_Total':[201,194,395]},index=['Female','Male','Column_Total'])"
   ]
  },
  {
   "cell_type": "code",
   "execution_count": 3,
   "id": "bfaac54f",
   "metadata": {},
   "outputs": [
    {
     "data": {
      "text/html": [
       "<div>\n",
       "<style scoped>\n",
       "    .dataframe tbody tr th:only-of-type {\n",
       "        vertical-align: middle;\n",
       "    }\n",
       "\n",
       "    .dataframe tbody tr th {\n",
       "        vertical-align: top;\n",
       "    }\n",
       "\n",
       "    .dataframe thead th {\n",
       "        text-align: right;\n",
       "    }\n",
       "</style>\n",
       "<table border=\"1\" class=\"dataframe\">\n",
       "  <thead>\n",
       "    <tr style=\"text-align: right;\">\n",
       "      <th></th>\n",
       "      <th>High_School</th>\n",
       "      <th>Bachelors</th>\n",
       "      <th>Masters</th>\n",
       "      <th>Phd</th>\n",
       "      <th>Row_Total</th>\n",
       "    </tr>\n",
       "  </thead>\n",
       "  <tbody>\n",
       "    <tr>\n",
       "      <th>Female</th>\n",
       "      <td>60</td>\n",
       "      <td>54</td>\n",
       "      <td>46</td>\n",
       "      <td>41</td>\n",
       "      <td>201</td>\n",
       "    </tr>\n",
       "    <tr>\n",
       "      <th>Male</th>\n",
       "      <td>40</td>\n",
       "      <td>44</td>\n",
       "      <td>53</td>\n",
       "      <td>57</td>\n",
       "      <td>194</td>\n",
       "    </tr>\n",
       "    <tr>\n",
       "      <th>Column_Total</th>\n",
       "      <td>100</td>\n",
       "      <td>98</td>\n",
       "      <td>99</td>\n",
       "      <td>98</td>\n",
       "      <td>395</td>\n",
       "    </tr>\n",
       "  </tbody>\n",
       "</table>\n",
       "</div>"
      ],
      "text/plain": [
       "              High_School  Bachelors  Masters  Phd  Row_Total\n",
       "Female                 60         54       46   41        201\n",
       "Male                   40         44       53   57        194\n",
       "Column_Total          100         98       99   98        395"
      ]
     },
     "execution_count": 3,
     "metadata": {},
     "output_type": "execute_result"
    }
   ],
   "source": [
    "df"
   ]
  },
  {
   "cell_type": "code",
   "execution_count": 4,
   "id": "c5a46809",
   "metadata": {},
   "outputs": [],
   "source": [
    "#Null hypothesis='There is no relation between gender and education level'\n",
    "#Alternative hypothesis='There is relation between gender and education level'\n",
    "alpha=0.05\n",
    "dof=3 #4-1=3 3-1=2 dof=3*1\n",
    "#Value of chi square test is 7.81473 (got it from the table)\n",
    "value=7.81473\n",
    "#decision rule if chi square is greater than 15.5073 we reject null hypothesis"
   ]
  },
  {
   "cell_type": "code",
   "execution_count": 5,
   "id": "c9c34f70",
   "metadata": {},
   "outputs": [],
   "source": [
    "observed_value=df.iloc[:2,:4].values"
   ]
  },
  {
   "cell_type": "code",
   "execution_count": 6,
   "id": "a4d9762a",
   "metadata": {},
   "outputs": [],
   "source": [
    "exp_val=[[],[]]\n",
    "for a in range(2):\n",
    "    for b in range(4):\n",
    "        exp_val[a].append(round((df.iloc[2][:4][b]*df.iloc[a][4]/395),2)) #formula\n",
    "exp_val=np.array(exp_val)"
   ]
  },
  {
   "cell_type": "code",
   "execution_count": 7,
   "id": "c998c49f",
   "metadata": {},
   "outputs": [
    {
     "data": {
      "text/plain": [
       "array([[50.89, 49.87, 50.38, 49.87],\n",
       "       [49.11, 48.13, 48.62, 48.13]])"
      ]
     },
     "execution_count": 7,
     "metadata": {},
     "output_type": "execute_result"
    }
   ],
   "source": [
    "exp_val"
   ]
  },
  {
   "cell_type": "code",
   "execution_count": 8,
   "id": "07dcd276",
   "metadata": {},
   "outputs": [
    {
     "name": "stdout",
     "output_type": "stream",
     "text": [
      "Null Hypothesis is rejected (Gender and education level are dependent.)\n"
     ]
    }
   ],
   "source": [
    "l=[]\n",
    "for i in range(len(exp_val)):\n",
    "    for b in range(4):\n",
    "        l.append(np.square(observed_value[i][b]-exp_val[i][b])/observed_value[i][b]) #formula\n",
    "chi_val=round(sum(l),2)\n",
    "if chi_val>value:\n",
    "    print(\"Null Hypothesis is rejected (Gender and education level are dependent.)\")\n",
    "else:\n",
    "    print('Null Hypothesis is accepted (Gender and education level are independent.)')"
   ]
  },
  {
   "cell_type": "markdown",
   "id": "23510da6",
   "metadata": {},
   "source": [
    "# Problem Statement 2:\n",
    "Using the following data, perform a oneway analysis of variance using α=.05. Write \n",
    "up the results in APA format.<br>\n",
    "[Group1: 51, 45, 33, 45, 67]<br>\n",
    "[Group2: 23, 43, 23, 43, 45]<br>\n",
    "[Group3: 56, 76, 74, 87, 56]"
   ]
  },
  {
   "cell_type": "code",
   "execution_count": 9,
   "id": "bfb4ef65",
   "metadata": {},
   "outputs": [],
   "source": [
    "#null hypothesis means of all the groups are same/similar\n",
    "#alternative hypothesis means of all the groups are not same/similar\n",
    "alpha=0.05\n",
    "df=pd.DataFrame({\"Group1\":[51,45,33,45,67],\"Group2\":[23,43,23,43,45],\"Group3\":[56,76,74,87,56]})"
   ]
  },
  {
   "cell_type": "code",
   "execution_count": 10,
   "id": "d5f5bad5",
   "metadata": {},
   "outputs": [
    {
     "data": {
      "text/html": [
       "<div>\n",
       "<style scoped>\n",
       "    .dataframe tbody tr th:only-of-type {\n",
       "        vertical-align: middle;\n",
       "    }\n",
       "\n",
       "    .dataframe tbody tr th {\n",
       "        vertical-align: top;\n",
       "    }\n",
       "\n",
       "    .dataframe thead th {\n",
       "        text-align: right;\n",
       "    }\n",
       "</style>\n",
       "<table border=\"1\" class=\"dataframe\">\n",
       "  <thead>\n",
       "    <tr style=\"text-align: right;\">\n",
       "      <th></th>\n",
       "      <th>Group1</th>\n",
       "      <th>Group2</th>\n",
       "      <th>Group3</th>\n",
       "    </tr>\n",
       "  </thead>\n",
       "  <tbody>\n",
       "    <tr>\n",
       "      <th>0</th>\n",
       "      <td>51</td>\n",
       "      <td>23</td>\n",
       "      <td>56</td>\n",
       "    </tr>\n",
       "    <tr>\n",
       "      <th>1</th>\n",
       "      <td>45</td>\n",
       "      <td>43</td>\n",
       "      <td>76</td>\n",
       "    </tr>\n",
       "    <tr>\n",
       "      <th>2</th>\n",
       "      <td>33</td>\n",
       "      <td>23</td>\n",
       "      <td>74</td>\n",
       "    </tr>\n",
       "    <tr>\n",
       "      <th>3</th>\n",
       "      <td>45</td>\n",
       "      <td>43</td>\n",
       "      <td>87</td>\n",
       "    </tr>\n",
       "    <tr>\n",
       "      <th>4</th>\n",
       "      <td>67</td>\n",
       "      <td>45</td>\n",
       "      <td>56</td>\n",
       "    </tr>\n",
       "  </tbody>\n",
       "</table>\n",
       "</div>"
      ],
      "text/plain": [
       "   Group1  Group2  Group3\n",
       "0      51      23      56\n",
       "1      45      43      76\n",
       "2      33      23      74\n",
       "3      45      43      87\n",
       "4      67      45      56"
      ]
     },
     "execution_count": 10,
     "metadata": {},
     "output_type": "execute_result"
    }
   ],
   "source": [
    "df"
   ]
  },
  {
   "cell_type": "code",
   "execution_count": 11,
   "id": "038387ca",
   "metadata": {},
   "outputs": [],
   "source": [
    "N,n,a=15,5,3 #N is the total observation in the data , n is the observation in a single column of the data, a is the number of columns\n",
    "dfbtw=a-1\n",
    "dfwithin=N-a\n",
    "dftotal=N-1"
   ]
  },
  {
   "cell_type": "code",
   "execution_count": 12,
   "id": "b955ef57",
   "metadata": {},
   "outputs": [],
   "source": [
    "(dfbtw,dfwithin) #go to f table and find the value \n",
    "value=3.8853\n",
    "#decision rule if f value is greater than 3.8853 we reject null hypothesis"
   ]
  },
  {
   "cell_type": "code",
   "execution_count": 13,
   "id": "9335f517",
   "metadata": {},
   "outputs": [],
   "source": [
    "ssbetw=(sum([np.square(sum(df['Group1'])),np.square(sum(df['Group2'])),np.square(sum(df['Group3']))])/n)-(sum([sum(df['Group1']),sum(df['Group2']),sum(df['Group3'])])/N)"
   ]
  },
  {
   "cell_type": "code",
   "execution_count": 14,
   "id": "ae1ede2e",
   "metadata": {},
   "outputs": [
    {
     "data": {
      "text/plain": [
       "42191.066666666666"
      ]
     },
     "execution_count": 14,
     "metadata": {},
     "output_type": "execute_result"
    }
   ],
   "source": [
    "ssbetw"
   ]
  },
  {
   "cell_type": "code",
   "execution_count": 15,
   "id": "694070e5",
   "metadata": {},
   "outputs": [],
   "source": [
    "a=sum([a*a for a in df['Group1']])\n",
    "b=sum([b*b for b in df['Group2']])\n",
    "c=sum([b*b for b in df['Group3']])\n",
    "#sum([a,b,c])==51*51+45*45+33*33+45*45+67*67+23*23+43*43+23*23+43*43+45*45+56*56+76*76+74*74+87*87+56*56"
   ]
  },
  {
   "cell_type": "code",
   "execution_count": 16,
   "id": "2b89c3d0",
   "metadata": {},
   "outputs": [],
   "source": [
    "sswithin=(sum([a,b,c]))-(sum([np.square(sum(df['Group1'])),np.square(sum(df['Group2'])),np.square(sum(df['Group3']))])/n)"
   ]
  },
  {
   "cell_type": "code",
   "execution_count": 17,
   "id": "02550ac0",
   "metadata": {},
   "outputs": [
    {
     "data": {
      "text/plain": [
       "1860.800000000003"
      ]
     },
     "execution_count": 17,
     "metadata": {},
     "output_type": "execute_result"
    }
   ],
   "source": [
    "sswithin"
   ]
  },
  {
   "cell_type": "code",
   "execution_count": 18,
   "id": "c59b7d5b",
   "metadata": {},
   "outputs": [],
   "source": [
    "sstotal=ssbetw+sswithin"
   ]
  },
  {
   "cell_type": "code",
   "execution_count": 19,
   "id": "b8a6eb32",
   "metadata": {},
   "outputs": [
    {
     "data": {
      "text/plain": [
       "44051.86666666667"
      ]
     },
     "execution_count": 19,
     "metadata": {},
     "output_type": "execute_result"
    }
   ],
   "source": [
    "sstotal"
   ]
  },
  {
   "cell_type": "code",
   "execution_count": 20,
   "id": "ea876208",
   "metadata": {},
   "outputs": [],
   "source": [
    "msbetw=ssbetw/dfbtw\n",
    "mswithin=sswithin/dfwithin"
   ]
  },
  {
   "cell_type": "code",
   "execution_count": 21,
   "id": "9cda67cc",
   "metadata": {},
   "outputs": [
    {
     "name": "stdout",
     "output_type": "stream",
     "text": [
      "21095.533333333333\n",
      "155.06666666666692\n"
     ]
    }
   ],
   "source": [
    "print(msbetw)\n",
    "print(mswithin)"
   ]
  },
  {
   "cell_type": "code",
   "execution_count": 22,
   "id": "c9644eb6",
   "metadata": {},
   "outputs": [],
   "source": [
    "f=msbetw/mswithin"
   ]
  },
  {
   "cell_type": "code",
   "execution_count": 23,
   "id": "6eab8a70",
   "metadata": {},
   "outputs": [
    {
     "data": {
      "text/plain": [
       "136.04170249355093"
      ]
     },
     "execution_count": 23,
     "metadata": {},
     "output_type": "execute_result"
    }
   ],
   "source": [
    "f"
   ]
  },
  {
   "cell_type": "code",
   "execution_count": 24,
   "id": "65309bd8",
   "metadata": {},
   "outputs": [
    {
     "name": "stdout",
     "output_type": "stream",
     "text": [
      "We reject null hypothesis . Means of the groups are different\n"
     ]
    }
   ],
   "source": [
    "if f>value:\n",
    "    print(\"We reject null hypothesis and conclude that means of the groups are different\")\n",
    "else:\n",
    "    print(\"We accept null hypothesis means of the group are same\")"
   ]
  },
  {
   "cell_type": "markdown",
   "id": "f99de89e",
   "metadata": {},
   "source": [
    "# Problem Statement 3:\n",
    "Calculate F Test for given 10, 20, 30, 40, 50 and 5,10,15, 20, 25.\n",
    "For 10, 20, 30, 40, 50"
   ]
  },
  {
   "cell_type": "code",
   "execution_count": 25,
   "id": "975c77b7",
   "metadata": {},
   "outputs": [
    {
     "name": "stdout",
     "output_type": "stream",
     "text": [
      "F-value is : 3.6\n",
      "p-value is : 0.0943497728424377\n"
     ]
    }
   ],
   "source": [
    "s1=[10,20,30,40,50]\n",
    "s2=[5,10,15,20,25]\n",
    "f,p=st.f_oneway(s1,s2) #got this from google\n",
    "print(\"F-value is :\",f)\n",
    "print(\"p-value is :\",p)"
   ]
  }
 ],
 "metadata": {
  "kernelspec": {
   "display_name": "Python 3",
   "language": "python",
   "name": "python3"
  },
  "language_info": {
   "codemirror_mode": {
    "name": "ipython",
    "version": 3
   },
   "file_extension": ".py",
   "mimetype": "text/x-python",
   "name": "python",
   "nbconvert_exporter": "python",
   "pygments_lexer": "ipython3",
   "version": "3.8.8"
  }
 },
 "nbformat": 4,
 "nbformat_minor": 5
}
