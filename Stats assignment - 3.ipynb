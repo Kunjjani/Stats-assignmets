{
 "cells": [
  {
   "cell_type": "markdown",
   "id": "9164f3b8",
   "metadata": {},
   "source": [
    "![](shiva.jpg)"
   ]
  },
  {
   "cell_type": "markdown",
   "id": "d2b161a0",
   "metadata": {},
   "source": [
    "# Problem Statement 1:\n",
    "Blood glucose levels for obese patients have a mean of 100 with a standard deviation of\n",
    "15. A researcher thinks that a diet high in raw cornstarch will have a positive effect on \n",
    "blood glucose levels. A sample of 36 patients who have tried the raw cornstarch diet \n",
    "have a mean glucose level of 108. Test the hypothesis that the raw cornstarch had an \n",
    "effect or not."
   ]
  },
  {
   "cell_type": "code",
   "execution_count": 1,
   "id": "1678e0c4",
   "metadata": {},
   "outputs": [],
   "source": [
    "pop_mean=100\n",
    "pop_std_dev=15\n",
    "n=36\n",
    "sam_mean=108\n",
    "alpha=.05 #considering\n",
    "lower_z_value=-1.96\n",
    "higher_z_value=1.96\n",
    "# we will perform z test as population standard deviation is provided\n",
    "#Null hypo pop_mean==100\n",
    "#Alternative hypo pop_mean!=100"
   ]
  },
  {
   "cell_type": "code",
   "execution_count": 2,
   "id": "d7800660",
   "metadata": {},
   "outputs": [
    {
     "name": "stdout",
     "output_type": "stream",
     "text": [
      "Null hypothesis rejected and conclusion is raw cornstarch has a positive effect of 3.2\n"
     ]
    }
   ],
   "source": [
    "import numpy as np\n",
    "z=(108-100)/(15/np.sqrt(n)) #formula = sample mean-population mean divided by population standard deviation / square root of n\n",
    "if z<-.196 or z>1.96:\n",
    "    print('Null hypothesis rejected and conclusion is raw cornstarch has a positive effect of',z)\n",
    "else:\n",
    "    print(\"Null hypothesis accepted and conclusion is raw cornstarch did not have any effect\")"
   ]
  },
  {
   "cell_type": "markdown",
   "id": "7ce3552a",
   "metadata": {},
   "source": [
    "# Problem Statement 2:\n",
    "In one state, 52% of the voters are Republicans, and 48% are Democrats. In a second \n",
    "state, 47% of the voters are Republicans, and 53% are Democrats. Suppose a simple \n",
    "random sample of 100 voters are surveyed from each state.\n",
    "What is the probability that the survey will show a greater percentage of Republican \n",
    "voters in the second state than in the first state?"
   ]
  },
  {
   "cell_type": "code",
   "execution_count": 3,
   "id": "32a8ac8e",
   "metadata": {},
   "outputs": [
    {
     "data": {
      "text/html": [
       "<div>\n",
       "<style scoped>\n",
       "    .dataframe tbody tr th:only-of-type {\n",
       "        vertical-align: middle;\n",
       "    }\n",
       "\n",
       "    .dataframe tbody tr th {\n",
       "        vertical-align: top;\n",
       "    }\n",
       "\n",
       "    .dataframe thead th {\n",
       "        text-align: right;\n",
       "    }\n",
       "</style>\n",
       "<table border=\"1\" class=\"dataframe\">\n",
       "  <thead>\n",
       "    <tr style=\"text-align: right;\">\n",
       "      <th></th>\n",
       "      <th>State1</th>\n",
       "      <th>State2</th>\n",
       "      <th>Row_total</th>\n",
       "    </tr>\n",
       "  </thead>\n",
       "  <tbody>\n",
       "    <tr>\n",
       "      <th>Republicans</th>\n",
       "      <td>52</td>\n",
       "      <td>47</td>\n",
       "      <td>99</td>\n",
       "    </tr>\n",
       "    <tr>\n",
       "      <th>Democrats</th>\n",
       "      <td>48</td>\n",
       "      <td>53</td>\n",
       "      <td>101</td>\n",
       "    </tr>\n",
       "    <tr>\n",
       "      <th>Column_total</th>\n",
       "      <td>100</td>\n",
       "      <td>100</td>\n",
       "      <td>200</td>\n",
       "    </tr>\n",
       "  </tbody>\n",
       "</table>\n",
       "</div>"
      ],
      "text/plain": [
       "              State1  State2  Row_total\n",
       "Republicans       52      47         99\n",
       "Democrats         48      53        101\n",
       "Column_total     100     100        200"
      ]
     },
     "execution_count": 3,
     "metadata": {},
     "output_type": "execute_result"
    }
   ],
   "source": [
    "#chi square test\n",
    "import pandas as pd\n",
    "import scipy.stats as st\n",
    "df=pd.DataFrame({'State1':[52,48,100],'State2':[47,53,100],'Row_total':[99,101,200]},index=['Republicans','Democrats','Column_total'])\n",
    "df"
   ]
  },
  {
   "cell_type": "code",
   "execution_count": 4,
   "id": "08d57fef",
   "metadata": {},
   "outputs": [],
   "source": [
    "observed=df.values[:2,:2]"
   ]
  },
  {
   "cell_type": "code",
   "execution_count": 5,
   "id": "4bcfd9d0",
   "metadata": {},
   "outputs": [
    {
     "name": "stdout",
     "output_type": "stream",
     "text": [
      "Chi square value 0.32003200320032005\n",
      "Probability Value 0.571588412838794\n",
      "Degrees of Freedom 1\n",
      "Expected Values       0     1\n",
      "0  49.5  49.5\n",
      "1  50.5  50.5\n"
     ]
    }
   ],
   "source": [
    "chi_val,p_value,dof,exp_value=st.chi2_contingency(observed)\n",
    "print(\"Chi square value\",chi_val)\n",
    "print(\"Probability Value\",p_value)\n",
    "print(\"Degrees of Freedom\",dof)\n",
    "print(\"Expected Values\",pd.DataFrame(exp_value))"
   ]
  },
  {
   "cell_type": "code",
   "execution_count": 6,
   "id": "2f1ac366",
   "metadata": {},
   "outputs": [
    {
     "name": "stdout",
     "output_type": "stream",
     "text": [
      "The probability that the survey will show a greater percentage of Republican voters in the second state than in the first state is 0.571588412838794\n"
     ]
    }
   ],
   "source": [
    "print('Probability that the survey will show a greater percentage of Republican voters in the second state than in the first state is',p_value)"
   ]
  },
  {
   "cell_type": "markdown",
   "id": "9864ff03",
   "metadata": {},
   "source": [
    "# Problem Statement 3:\n",
    "You take the SAT and score 1100. The mean score for the SAT is 1026 and the standard \n",
    "deviation is 209. How well did you score on the test compared to the average test taker?\n",
    "Note: Solution submitted via github must contain all the detailed steps.\n",
    "3.Output\n",
    "This assignment consists of 200 marks and has to be submitted in .ipynb format in \n",
    "the upcoming session for evaluation."
   ]
  },
  {
   "cell_type": "code",
   "execution_count": 7,
   "id": "3456cc9d",
   "metadata": {},
   "outputs": [
    {
     "name": "stdout",
     "output_type": "stream",
     "text": [
      "Z Score :  0.35406698564593303\n",
      "We conclude that score is 0.35406698564593303 standard deviations above the mean\n"
     ]
    }
   ],
   "source": [
    "x=1100\n",
    "mu= 1026 \n",
    "sd= 209\n",
    "z =  (x - mu)/sd  # formula\n",
    "print(\"Z Score : \",z) \n",
    "print(f'We conclude that score is {z} standard deviations above the mean')"
   ]
  }
 ],
 "metadata": {
  "kernelspec": {
   "display_name": "Python 3",
   "language": "python",
   "name": "python3"
  },
  "language_info": {
   "codemirror_mode": {
    "name": "ipython",
    "version": 3
   },
   "file_extension": ".py",
   "mimetype": "text/x-python",
   "name": "python",
   "nbconvert_exporter": "python",
   "pygments_lexer": "ipython3",
   "version": "3.8.8"
  }
 },
 "nbformat": 4,
 "nbformat_minor": 5
}
