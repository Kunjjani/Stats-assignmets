{
 "cells": [
  {
   "cell_type": "markdown",
   "id": "25e141d3",
   "metadata": {},
   "source": [
    "![](shiva.jpg)"
   ]
  },
  {
   "cell_type": "markdown",
   "id": "3362f6f8",
   "metadata": {},
   "source": [
    "# __Problem Statement 1:__ \n",
    "In each of the following situations, state whether it is a correctly stated hypothesis \n",
    "testing problem and why?\n",
    "1. 𝐻0: 𝜇 = 25, 𝐻1: 𝜇 ≠ 25\n",
    "2. 𝐻0: 𝜎 > 10, 𝐻1: 𝜎 = 10\n",
    "3. 𝐻0: 𝑥 = 50, 𝐻1: 𝑥 ≠ 50\n",
    "4. 𝐻0: 𝑝 = 0.1, 𝐻1: 𝑝 = 0.5\n",
    "5. 𝐻0: 𝑠 = 30, 𝐻1: 𝑠 > 30\n",
    "\n",
    "__ANSWERS__\n",
    "1. 𝐻0: 𝜇 = 25, 𝐻1: 𝜇 ≠ 25 => __This is correctly stated hypothesis__ because if the population mean (𝜇) of the null hypothesis (𝐻0) is 25 then the population mean(𝜇) of the alternative hypothesis (𝐻1) should not be 25 __i.e(𝜇<25 or 𝜇>25)__<br><br>\n",
    "2. 𝐻0: 𝜎 > 10, 𝐻1: 𝜎 = 10 => __This is not correctly stated hypothesis__ because it states that in the null hypothesis (𝐻0)\n",
    "the standard deviation (𝜎) is 10 so in the alternative hypothesis (𝐻1) the value of standard deviation (𝜎) should not be 10 __i.e (𝜎<10__)<br><br>\n",
    "3. 𝐻0: 𝑥 = 50, 𝐻1: 𝑥 ≠ 50 => __This is correctly stated hypothesis__ as it states that if the value of 𝑥 in null hypothesis (𝐻0) is 50 then the value of 𝑥 in alternative hypothesis(𝐻1) should not be 50 __i.e (𝑥>50 or 𝑥<50)__<br><br>\n",
    "4. 𝐻0: 𝑝 = 0.1, 𝐻1: 𝑝 = 0.5 => __This hypothesis is incorrectly stated__ as it states that the value of 𝑝 in null hypothesis (𝐻0) is 0.1\n",
    "so in the alternative hypothesis (𝐻1) the value of p should not be equal to 0.1 __i.e the alternative hypothesis (𝐻1) should be (𝑝≠0.1)__<br><br>\n",
    "5. 𝐻0: 𝑠 = 30, 𝐻1: 𝑠 > 30 => __This hypothesis is also incorrectly stated__ as it states that the value of 𝑠 in null hypothesis (𝐻0) is 30 so the value in alternative hypothesis (𝐻1) should not be 30 __i.e The alternative hypothesis (𝐻1) should be (𝑠≠30)__"
   ]
  },
  {
   "cell_type": "markdown",
   "id": "a77ca34f",
   "metadata": {},
   "source": [
    "# __Problem Statement 2:__\n",
    "The college bookstore tells prospective students that the average cost of its \n",
    "textbooks is Rs. 52 with a standard deviation of Rs. 4.50. A group of smart statistics \n",
    "students thinks that the average cost is higher. To test the bookstore’s claim against \n",
    "their alternative, the students will select a random sample of size 100. Assume that \n",
    "the mean from their random sample is Rs. 52.80. Perform a hypothesis test at the \n",
    "5% level of significance and state your decision."
   ]
  },
  {
   "cell_type": "code",
   "execution_count": 1,
   "id": "6180a448",
   "metadata": {},
   "outputs": [],
   "source": [
    "import pandas as pd\n",
    "import numpy as np\n",
    "import scipy.stats as st"
   ]
  },
  {
   "cell_type": "code",
   "execution_count": 2,
   "id": "6522a3e7",
   "metadata": {},
   "outputs": [],
   "source": [
    "def zstat(samp_mean,pop_mean,s_dev,n,z=-1.96,z1=1.96):#setting the default value for alpha as .05 so range is -1.96 to 1.96\n",
    "    sample_error=s_dev/np.sqrt(n)\n",
    "    ans=(samp_mean-pop_mean)/sample_error\n",
    "    if ans<z or ans>z1:\n",
    "        print(f\"Reject the null hypothesis as the value do not fall between {z} and {z1}\")\n",
    "    else:\n",
    "        print(f\"Accept the null hypothesis as the value falls in between {z} and {z1}\")\n",
    "    print('Probability value',round(ans,2))"
   ]
  },
  {
   "cell_type": "code",
   "execution_count": 3,
   "id": "a49dae69",
   "metadata": {},
   "outputs": [
    {
     "name": "stdout",
     "output_type": "stream",
     "text": [
      "Accept the null hypothesis as the value falls in between -1.96 and 1.96\n",
      "Probability value 1.78\n"
     ]
    }
   ],
   "source": [
    "zstat(52.80,52,4.50,100)"
   ]
  },
  {
   "cell_type": "markdown",
   "id": "9aa0c15d",
   "metadata": {},
   "source": [
    "# Problem Statement 3: \n",
    "A certain chemical pollutant in the Genesee River has been constant for several \n",
    "years with mean μ = 34 ppm (parts per million) and standard deviation σ = 8 ppm. A \n",
    "group of factory representatives whose companies discharge liquids into the river is \n",
    "now claiming that they have lowered the average with improved filtration devices. A \n",
    "group of environmentalists will test to see if this is true at the 1% level of \n",
    "significance. Assume \\ that their sample of size 50 gives a mean of 32.5 ppm. \n",
    "Perform a hypothesis test at the 1% level of significance and state your decision."
   ]
  },
  {
   "cell_type": "code",
   "execution_count": 4,
   "id": "9dda8cea",
   "metadata": {},
   "outputs": [
    {
     "name": "stdout",
     "output_type": "stream",
     "text": [
      "Accept the null hypothesis as the value falls in between -2.58 and 2.58\n",
      "Probability value -1.33\n"
     ]
    }
   ],
   "source": [
    "zstat(32.5,34,8,50,z=-2.58,z1=2.58)# alpha=1% so z score is 2.58 from the table"
   ]
  },
  {
   "cell_type": "markdown",
   "id": "9a739729",
   "metadata": {},
   "source": [
    "# Problem Statement 4: \n",
    "Based on population figures and other general information on the U.S. population, \n",
    "suppose it has been estimated that, on average, a family of four in the U.S. spends \n",
    "about $1135 annually on dental expenditures. Suppose further that a regional dental \n",
    "association wants to test to determine if this figure is accurate for their area of \n",
    "country. To test this, 22 families of 4 are randomly selected from the population in \n",
    "that area of the country and a log is kept of the family’s dental expenditure for one \n",
    "year. The resulting data are given below. Assuming, that dental expenditure is \n",
    "normally distributed in the population, use the data and an alpha of 0.5 to test the \n",
    "dental association’s hypothesis.\n",
    "1008, 812, 1117, 1323, 1308, 1415, 831, 1021, 1287, 851, 930, 730, 699,\n",
    "872, 913, 944, 954, 987, 1695, 995, 1003, 994"
   ]
  },
  {
   "cell_type": "code",
   "execution_count": 5,
   "id": "1f74f543",
   "metadata": {},
   "outputs": [],
   "source": [
    "def tstat(samp_mean,pop_mean,s_dev,n,t=-2.080,t1=2.080):#set the default value for alpha as .05\n",
    "    sample_error=s_dev/np.sqrt(n)\n",
    "    ans=(samp_mean-pop_mean)/sample_error\n",
    "    if ans<t or ans>t1:\n",
    "        print(f\"Rejecting the null hypothesis\\nConclusion is that there is a differnce\\nAs the value do not fall in the range of {t} and {t1}\")\n",
    "    else:\n",
    "        print(f\"Accepting the null hypothesis\\nConclusion is that there is no difference\\nAs the value falls in the range of {t} and {t1}\")\n",
    "    print('Probability Value',round(ans,2))"
   ]
  },
  {
   "cell_type": "code",
   "execution_count": 6,
   "id": "9f2e4b09",
   "metadata": {},
   "outputs": [],
   "source": [
    "sam_mean,std_dev=np.mean([1008, 812, 1117, 1323, 1308, 1415, 831, 1021, 1287, 851, 930, 730, 699, 872, 913, 944, 954, 987, 1695, 995, 1003, 994]),np.std([1008, 812, 1117, 1323, 1308, 1415, 831, 1021, 1287, 851, 930, 730, 699, 872, 913, 944, 954, 987, 1695, 995, 1003, 994])"
   ]
  },
  {
   "cell_type": "code",
   "execution_count": 7,
   "id": "3e3aacba",
   "metadata": {},
   "outputs": [
    {
     "name": "stdout",
     "output_type": "stream",
     "text": [
      "Accepting the null hypothesis\n",
      "Conclusion is that there is no difference\n",
      "As the value falls in the range of -2.08 and 2.08\n",
      "Probability Value -2.07\n"
     ]
    }
   ],
   "source": [
    "tstat(samp_mean=sam_mean,pop_mean=1135,s_dev=std_dev,n=22) #pop_mean and n are given in the problem statment"
   ]
  },
  {
   "cell_type": "markdown",
   "id": "63bebc78",
   "metadata": {},
   "source": [
    "# Problem Statement 5: \n",
    "In a report prepared by the Economic Research Department of a major bank the \n",
    "Department manager maintains that the average annual family income on Metropolis \n",
    "is 48,432 (dollar). What do you conclude about the validity of the report if a random sample \n",
    "of 400 families shows and average income of $48,574 with a standard deviation of \n",
    "2000?"
   ]
  },
  {
   "cell_type": "code",
   "execution_count": 8,
   "id": "84ece8e1",
   "metadata": {},
   "outputs": [
    {
     "name": "stdout",
     "output_type": "stream",
     "text": [
      "Accepting the null hypothesis\n",
      "Conclusion is that there is no difference\n",
      "As the value falls in the range of -2.08 and 2.08\n",
      "Probability Value 1.42\n"
     ]
    }
   ],
   "source": [
    "tstat(48574,48432,2000,400) #considering alpha=.05"
   ]
  },
  {
   "cell_type": "markdown",
   "id": "f8d12c70",
   "metadata": {},
   "source": [
    "# Problem Statement 6:\n",
    "Suppose that in past years the average price per square foot for warehouses in the \n",
    "United States has been 32.28 dollar. A national real estate investor wants to determine \n",
    "whether that figure has changed now. The investor hires a researcher who randomly \n",
    "samples 19 warehouses that are for sale across the United States and finds that the \n",
    "mean price per square foot is 31.67 dollar, with a standard deviation of 1.29 dollar. assume \n",
    "that the prices of warehouse footage are normally distributed in population. If the \n",
    "researcher uses a 5% level of significance, what statistical conclusion can be \n",
    "reached? What are the hypotheses?"
   ]
  },
  {
   "cell_type": "code",
   "execution_count": 9,
   "id": "aa22a5cf",
   "metadata": {},
   "outputs": [
    {
     "name": "stdout",
     "output_type": "stream",
     "text": [
      "Accepting the null hypothesis\n",
      "Conclusion is that there is no difference\n",
      "As the value falls in the range of -2.08 and 2.08\n",
      "Probability Value -2.06\n"
     ]
    }
   ],
   "source": [
    "tstat(31.67,32.28,1.29,19) #alpha is 0.5"
   ]
  },
  {
   "cell_type": "markdown",
   "id": "69b33929",
   "metadata": {},
   "source": [
    "# Problem Statement 7:\n",
    "Fill in the blank spaces in the table and draw your conclusions from it."
   ]
  },
  {
   "cell_type": "code",
   "execution_count": 10,
   "id": "678d7f70",
   "metadata": {},
   "outputs": [],
   "source": [
    "df=pd.DataFrame({'Acceptance region':['48.5<x<51.5','48<x<52','48.81<x<51.9','48.42<x<51.58'],'Sample Size':[10,10,16,16],'Alpha':[2.5,2.5,2.5,2.5],'Beta_at_𝜇=52':[0.2643,0,0.4960,0.2514],'Beta_at_𝜇=50.5':[0.8259,0.8586,0.9844,0.7319]})"
   ]
  },
  {
   "cell_type": "code",
   "execution_count": 11,
   "id": "51d09b0a",
   "metadata": {},
   "outputs": [
    {
     "data": {
      "text/html": [
       "<div>\n",
       "<style scoped>\n",
       "    .dataframe tbody tr th:only-of-type {\n",
       "        vertical-align: middle;\n",
       "    }\n",
       "\n",
       "    .dataframe tbody tr th {\n",
       "        vertical-align: top;\n",
       "    }\n",
       "\n",
       "    .dataframe thead th {\n",
       "        text-align: right;\n",
       "    }\n",
       "</style>\n",
       "<table border=\"1\" class=\"dataframe\">\n",
       "  <thead>\n",
       "    <tr style=\"text-align: right;\">\n",
       "      <th></th>\n",
       "      <th>Acceptance region</th>\n",
       "      <th>Sample Size</th>\n",
       "      <th>Alpha</th>\n",
       "      <th>Beta_at_𝜇=52</th>\n",
       "      <th>Beta_at_𝜇=50.5</th>\n",
       "    </tr>\n",
       "  </thead>\n",
       "  <tbody>\n",
       "    <tr>\n",
       "      <th>0</th>\n",
       "      <td>48.5&lt;x&lt;51.5</td>\n",
       "      <td>10</td>\n",
       "      <td>2.5</td>\n",
       "      <td>0.2643</td>\n",
       "      <td>0.8259</td>\n",
       "    </tr>\n",
       "    <tr>\n",
       "      <th>1</th>\n",
       "      <td>48&lt;x&lt;52</td>\n",
       "      <td>10</td>\n",
       "      <td>2.5</td>\n",
       "      <td>0.0000</td>\n",
       "      <td>0.8586</td>\n",
       "    </tr>\n",
       "    <tr>\n",
       "      <th>2</th>\n",
       "      <td>48.81&lt;x&lt;51.9</td>\n",
       "      <td>16</td>\n",
       "      <td>2.5</td>\n",
       "      <td>0.4960</td>\n",
       "      <td>0.9844</td>\n",
       "    </tr>\n",
       "    <tr>\n",
       "      <th>3</th>\n",
       "      <td>48.42&lt;x&lt;51.58</td>\n",
       "      <td>16</td>\n",
       "      <td>2.5</td>\n",
       "      <td>0.2514</td>\n",
       "      <td>0.7319</td>\n",
       "    </tr>\n",
       "  </tbody>\n",
       "</table>\n",
       "</div>"
      ],
      "text/plain": [
       "  Acceptance region  Sample Size  Alpha  Beta_at_𝜇=52  Beta_at_𝜇=50.5\n",
       "0       48.5<x<51.5           10    2.5        0.2643          0.8259\n",
       "1           48<x<52           10    2.5        0.0000          0.8586\n",
       "2      48.81<x<51.9           16    2.5        0.4960          0.9844\n",
       "3     48.42<x<51.58           16    2.5        0.2514          0.7319"
      ]
     },
     "execution_count": 11,
     "metadata": {},
     "output_type": "execute_result"
    }
   ],
   "source": [
    "df"
   ]
  },
  {
   "cell_type": "markdown",
   "id": "45edcf5b",
   "metadata": {},
   "source": [
    "# calculation of a value when Beta_at_𝜇=52\tand 48.42<x<51.58\t\n",
    "* example - beta calculation when pop mean=52 and acceptance region is 48.42 < x < 51.58\n",
    "* p1=48.42-52/(2.5/sqrt(16))= -5.728 we go to z table and find the z value which comes as 0\n",
    "* p2=51.58-52/(2.5/sqrt(16))= -0.672 we go to z table and find the z value which comes as 0.2514\n",
    "* finally we subtract (p2-p1) = 0.2514-0 we get value as 0.2514 __so beta when pop mean=52 and acceptance region is 48.42 < x < 51.58 =0.2514__\n",
    "# similarly i have calculated for all "
   ]
  },
  {
   "cell_type": "markdown",
   "id": "eae011dd",
   "metadata": {},
   "source": [
    "# Problem Statement 8:\n",
    "Find the t-score for a sample size of 16 taken from a population with mean 10 when \n",
    "the sample mean is 12 and the sample standard deviation is 1.5."
   ]
  },
  {
   "cell_type": "code",
   "execution_count": 12,
   "id": "47297653",
   "metadata": {},
   "outputs": [],
   "source": [
    "def tscore(samp_mean,pop_mean,s_dev,n):\n",
    "    sample_error=s_dev/np.sqrt(n)\n",
    "    ans=(samp_mean-pop_mean)/sample_error\n",
    "    print(f\"The t score is {round(ans,2)}\")"
   ]
  },
  {
   "cell_type": "code",
   "execution_count": 13,
   "id": "0b9cefe4",
   "metadata": {},
   "outputs": [
    {
     "name": "stdout",
     "output_type": "stream",
     "text": [
      "The t score is 5.33\n"
     ]
    }
   ],
   "source": [
    "tscore(12,10,1.5,16)"
   ]
  },
  {
   "cell_type": "markdown",
   "id": "bb95f2af",
   "metadata": {},
   "source": [
    "# Problem Statement 9:\n",
    "Find the t-score below which we can expect 99% of sample means will fall if samples \n",
    "of size 16 are taken from a normally distributed population."
   ]
  },
  {
   "cell_type": "code",
   "execution_count": 14,
   "id": "df584b57",
   "metadata": {},
   "outputs": [
    {
     "name": "stdout",
     "output_type": "stream",
     "text": [
      "T score below which we can expect 99% of sample mean is 2.6\n"
     ]
    }
   ],
   "source": [
    "t=st.t.ppf(q=0.99,df=15) #df=n-1=16-1=15\n",
    "print(\"T score below which we can expect 99% of sample mean is\",round(t,2))"
   ]
  },
  {
   "cell_type": "markdown",
   "id": "10e2eb40",
   "metadata": {},
   "source": [
    "# Problem Statement 10: \n",
    "If a random sample of size 25 drawn from a normal population gives a mean of 60 \n",
    "and a standard deviation of 4, find the range of t-scores where we can expect to find \n",
    "the middle 95% of all sample means. Compute the probability that (−𝑡0.05 <𝑡<𝑡0.10)."
   ]
  },
  {
   "cell_type": "code",
   "execution_count": 15,
   "id": "01d708f7",
   "metadata": {},
   "outputs": [
    {
     "name": "stdout",
     "output_type": "stream",
     "text": [
      "T score below which we can expect 95% of sample mean is 51.74440575348792 to 68.25559424651209\n",
      "T value is 1.7109\n",
      "Probability computation of P(−𝑡0.05 <𝑡<𝑡0.10) is\n",
      "(−𝑡0.05)=-2.064 is smaller than t value and t value =1.7109 is samller than (𝑡0.10)=1.711\n",
      "The value of -2.064 and 1.711 i got from the t table\n"
     ]
    }
   ],
   "source": [
    "# This is a two tailed test as we have to compare the probability between probability of (−𝑡 0.05 < 𝑡 < 𝑡 0.10).\n",
    "n=25\n",
    "mean=60\n",
    "std_dev=4\n",
    "t=round(st.t.ppf(0.95,24),4)# d0f=n=1=25-1=24\n",
    "lower_cut_off=st.t.ppf(0.025,24,60,4) \n",
    "upper_cut_off=st.t.ppf(0.975,24,60,4)\n",
    "print(f\"T score below which we can expect 95% of sample mean is {lower_cut_off} to {upper_cut_off}\")\n",
    "print(f'T value is {t}\\nProbability computation of P(−𝑡0.05 <𝑡<𝑡0.10) is\\n(−𝑡0.05)=-2.064 is smaller than t value and t value ={t} is samller than (𝑡0.10)=1.711\\nThe value of -2.064 and 1.711 i got from the t table')"
   ]
  },
  {
   "cell_type": "markdown",
   "id": "fd4f9d3f",
   "metadata": {},
   "source": [
    "# Problem Statement 11:\n",
    "Two-tailed test for difference between two population means\n",
    "Is there evidence to conclude that the number of people travelling from Bangalore to \n",
    "Chennai is different from the number of people travelling from Bangalore to Hosur in \n",
    "a week, given the following:\n",
    "Population 1: Bangalore to Chennai n1 = 1200\n",
    "x1 = 452\n",
    "s1 = 212\n",
    "Population 2: Bangalore to Hosur n2 = 800\n",
    "x2 = 523\n",
    "s2 = 185"
   ]
  },
  {
   "cell_type": "code",
   "execution_count": 16,
   "id": "3c72ac44",
   "metadata": {},
   "outputs": [],
   "source": [
    "import numpy as np\n",
    "#Two sampled t test\n",
    "n1=1200 #number of people of population 1\n",
    "x1=452 #mean of population 1\n",
    "s1=212 #standard deviation of population 1\n",
    "n2=800 #number of people of population 2\n",
    "x2=523 #mean of population 2\n",
    "s2=185 #standard deviation of population 2\n",
    "#null hypothesis there is no difference between people travelling from banglore to chennai and banglore to hosur in a week\n",
    "#alternative hypothesis there is difference between people travelling from banglore to chennai and banglore to hosur in a week\n",
    "def two_sam_ttest(mean_1=0,mean_2=0,s_d1=0,s_d2=0,n1=0,n2=0,lower_bound=-1.9600,upper_bound=1.9600): #considering alpha value =0.5\n",
    "    df1=n1-1\n",
    "    df2=n2-1\n",
    "    dof=df1+df2\n",
    "    ss1=np.square(s_d1)*df1\n",
    "    ss2=np.square(s_d2)*df2\n",
    "    pooled_variance=(ss1+ss2)/(df1+df2)\n",
    "    t=(mean_1-mean_2)/np.sqrt((pooled_variance/n1)+(pooled_variance)/n2)\n",
    "    ans=(mean_1-mean_2)/np.sqrt((np.square(s_d1)/n1)+(np.square(s_d2)/n2))\n",
    "    if ans<lower_bound or ans>upper_bound:\n",
    "        print(f\"Null hypothesis rejected as {round(ans,2)} do not fall in the range of {lower_bound} and {upper_bound}\")\n",
    "    else:\n",
    "        print(f\"Null hypothesis accepted as {round(ans,2)} falls in the range {lower_bound} and {upper_bound}\")"
   ]
  },
  {
   "cell_type": "code",
   "execution_count": 17,
   "id": "96dedf3e",
   "metadata": {},
   "outputs": [
    {
     "name": "stdout",
     "output_type": "stream",
     "text": [
      "Null hypothesis accepted as -0.63 falls in the range -1.96 and 1.96\n"
     ]
    }
   ],
   "source": [
    "two_sam_ttest(70,74,15,25,25,20)"
   ]
  },
  {
   "cell_type": "markdown",
   "id": "52950daa",
   "metadata": {},
   "source": [
    "# Problem Statement 12:\n",
    "Is there evidence to conclude that the number of people preferring Duracell battery is \n",
    "different from the number of people preferring Energizer battery, given the following:\n",
    "Population 1: Duracell\n",
    "n1 = 100\n",
    "x1 = 308\n",
    "s1 = 84\n",
    "Population 2: Energizer\n",
    "n2 = 100\n",
    "x2 = 254\n",
    "s2 = 67"
   ]
  },
  {
   "cell_type": "code",
   "execution_count": 18,
   "id": "8e9c1c9f",
   "metadata": {},
   "outputs": [
    {
     "name": "stdout",
     "output_type": "stream",
     "text": [
      "Null hypothesis rejected as 5.03 do not fall in the range of -1.96 and 1.96\n"
     ]
    }
   ],
   "source": [
    "two_sam_ttest(308,254,84,67,100,100)"
   ]
  },
  {
   "cell_type": "markdown",
   "id": "9929e464",
   "metadata": {},
   "source": [
    "# Problem Statement 13: \n",
    "Pooled estimate of the population variance\n",
    "Does the data provide sufficient evidence to conclude that average percentage\n",
    "increase in the price of sugar differs when it is sold at two different prices?\n",
    "Population 1: Price of sugar = Rs. 27.50 n1 = 14\n",
    "x1 = 0.317%\n",
    "s1 = 0.12%\n",
    "Population 2: Price of sugar = Rs. 20.00 n2 = 9\n",
    "x2 = 0.21%\n",
    "s2 = 0.11%"
   ]
  },
  {
   "cell_type": "code",
   "execution_count": 19,
   "id": "94ac6db4",
   "metadata": {},
   "outputs": [
    {
     "name": "stdout",
     "output_type": "stream",
     "text": [
      "Null hypothesis accepted as 1.54 falls in the range -1.96 and 1.96\n"
     ]
    }
   ],
   "source": [
    "two_sam_ttest(27.50,20.00,12,11,14,9)"
   ]
  },
  {
   "cell_type": "markdown",
   "id": "7f65377a",
   "metadata": {},
   "source": [
    "# Problem Statement 14:\n",
    "The manufacturers of compact disk players want to test whether a small price \n",
    "reduction is enough to increase sales of their product. Is there evidence that the \n",
    "small price reduction is enough to increase sales of compact disk players?\n",
    "Population 1: Before reduction\n",
    "n1 = 15\n",
    "x1 = Rs. 6598 s1 = Rs. 844\n",
    "Population 2: After reduction n2 = 12\n",
    "x2 = RS. 6870\n",
    "s2 = Rs. 669"
   ]
  },
  {
   "cell_type": "code",
   "execution_count": 20,
   "id": "2b7d1692",
   "metadata": {},
   "outputs": [
    {
     "name": "stdout",
     "output_type": "stream",
     "text": [
      "Null hypothesis accepted as -0.93 falls in the range -1.96 and 1.96\n"
     ]
    }
   ],
   "source": [
    "two_sam_ttest(6598,6870,844,669,15,12)"
   ]
  },
  {
   "cell_type": "markdown",
   "id": "b8adb512",
   "metadata": {},
   "source": [
    "# Problem Statement 15: \n",
    "Comparisons of two population proportions when the hypothesized difference is zero \n",
    "Carry out a two-tailed test of the equality of banks’ share of the car loan market in \n",
    "1980 and 1995.\n",
    "Population 1: 1980\n",
    "n1 = 1000\n",
    "x1 = 53\n",
    "𝑝 1 = 0.53\n",
    "Population 2: 1985\n",
    "n2 = 100\n",
    "x2 = 43\n",
    "𝑝 2= 0.53"
   ]
  },
  {
   "cell_type": "code",
   "execution_count": 21,
   "id": "f255d8e6",
   "metadata": {},
   "outputs": [],
   "source": [
    "def two_samp_ztest(p1,p2,n1,n2,z1=-1.96,z2=1.96):#Considering alpha as 0.5\n",
    "    prop_1=p1/n1\n",
    "    prop_2=p2/n2\n",
    "    pooled_prop=(p1+p2)/(n1+n2)\n",
    "    z_val=(prop_1-prop_2)/((np.sqrt(pooled_prop*(1-pooled_prop)))*(np.sqrt(1/n1+1/n2)))\n",
    "    if z_val<z1 or z_val>z2:\n",
    "        print(f\"Null hypothesis rejected as {round(z_val,3)} do not fall in the range of {z1} and {z2} as alpha value is considered as .05\")\n",
    "    else:\n",
    "        print(f\"Null hypothesis accepted as {round(z_val,3)} falls in the range of {z1} and {z2} as alpha value is considered as .05\")"
   ]
  },
  {
   "cell_type": "code",
   "execution_count": 22,
   "id": "ead11092",
   "metadata": {},
   "outputs": [
    {
     "name": "stdout",
     "output_type": "stream",
     "text": [
      "Null hypothesis rejected as -12.736 do not fall in the range of -1.96 and 1.96 as alpha value is considered as .05\n"
     ]
    }
   ],
   "source": [
    "two_samp_ztest(53,43,1000,100)"
   ]
  },
  {
   "cell_type": "markdown",
   "id": "9e6100da",
   "metadata": {},
   "source": [
    "# Problem Statement 16: \n",
    "Carry out a one-tailed test to determine whether the population proportion of \n",
    "traveler’s check buyers who buy at least $2500 in checks when sweepstakes prizes \n",
    "are offered as at least 10 % higher than the proportion of such buyers when no \n",
    "sweepstakes are on.\n",
    "Population 1: With sweepstakes\n",
    "n1 = 300\n",
    "x1 = 120\n",
    "𝑝 = 0.40\n",
    "Population 2: No sweepstakes n2 = 700\n",
    "x2 = 140\n",
    "𝑝 2= 0.20"
   ]
  },
  {
   "cell_type": "code",
   "execution_count": 23,
   "id": "2bb02e73",
   "metadata": {},
   "outputs": [
    {
     "name": "stdout",
     "output_type": "stream",
     "text": [
      "Null hypothesis accepted as -0.025 falls in the range of -1.96 and 1.96 as alpha value is considered as .05\n"
     ]
    }
   ],
   "source": [
    "two_samp_ztest(0.4,0.2,300,140)"
   ]
  },
  {
   "cell_type": "markdown",
   "id": "c4280c25",
   "metadata": {},
   "source": [
    "Problem Statement 17: \n",
    "A die is thrown 132 times with the following results: Number turned up: 1, 2, 3, 4, 5, 6\n",
    "Frequency: 16, 20, 25, 14, 29, 28\n",
    "Is the die unbiased? Consider the degrees of freedom as 𝑝 − 1."
   ]
  },
  {
   "cell_type": "code",
   "execution_count": 24,
   "id": "69dc6d0f",
   "metadata": {},
   "outputs": [],
   "source": [
    "#chi square test\n",
    "#null hypothesis The dice is unbiased\n",
    "#alternative hypothesis The dice is biased\n",
    "dof=6-1\n",
    "alpha=.05 #Considering\n",
    "value=11.07"
   ]
  },
  {
   "cell_type": "code",
   "execution_count": 25,
   "id": "5b241bc0",
   "metadata": {},
   "outputs": [],
   "source": [
    "observed=[16,20,25,14,29,28]\n",
    "expected=sum(observed)/len(observed)"
   ]
  },
  {
   "cell_type": "code",
   "execution_count": 26,
   "id": "54bf97fc",
   "metadata": {},
   "outputs": [
    {
     "name": "stdout",
     "output_type": "stream",
     "text": [
      "Null hypothesis accepted the dice is unbiased\n"
     ]
    }
   ],
   "source": [
    "chi_val=sum([(i-expected)**2/expected for i in observed])\n",
    "if chi_val<value:\n",
    "    print('Null hypothesis accepted the dice is unbiased')\n",
    "else:\n",
    "    print(\"Null hypothesis rejected the dice is biased\")"
   ]
  },
  {
   "cell_type": "markdown",
   "id": "ec38f131",
   "metadata": {},
   "source": [
    "# Problem Statement 18: \n",
    "In a certain town, there are about one million eligible voters. A simple random \n",
    "sample of 10,000 eligible voters was chosen to study the relationship between \n",
    "gender and participation in the last election. The results are summarized in the \n",
    "following 2X2 (read two by two) contingency table:\n",
    "We would want to check whether being a man or a woman (columns) is independent of \n",
    "having voted in the last election (rows). In other words, is “gender and voting independent”?"
   ]
  },
  {
   "cell_type": "code",
   "execution_count": 27,
   "id": "ef24486f",
   "metadata": {},
   "outputs": [],
   "source": [
    "df=pd.DataFrame(data=[[2792,3591],[1486,2131]],index=['Voted','Not Voted'],columns=['Men','Women'])"
   ]
  },
  {
   "cell_type": "code",
   "execution_count": 28,
   "id": "051bfc9d",
   "metadata": {},
   "outputs": [],
   "source": [
    "observed=df.values"
   ]
  },
  {
   "cell_type": "code",
   "execution_count": 29,
   "id": "6344c48b",
   "metadata": {},
   "outputs": [
    {
     "name": "stdout",
     "output_type": "stream",
     "text": [
      "Null hypothesis rejected gender and voting are not independent\n"
     ]
    }
   ],
   "source": [
    "value=3.841 #Considering alpha as .05\n",
    "chi_val,p_value,dof,exp_value=st.chi2_contingency(observed)\n",
    "if chi_val>value:\n",
    "    print(\"Null hypothesis rejected gender and voting are not independent\")\n",
    "else:\n",
    "    print(\"Null hypothesis accepted gender and voting independent\")"
   ]
  },
  {
   "cell_type": "markdown",
   "id": "3a00e99a",
   "metadata": {},
   "source": [
    "# Problem Statement 19: \n",
    "A sample of 100 voters are asked which of four candidates they would vote for in an \n",
    "election. The number supporting each candidate is given below:\n",
    "Do the data suggest that all candidates are equally popular? Chi-Square = 14.96, \n",
    "with 3 df, 𝑝 0.05 ."
   ]
  },
  {
   "cell_type": "code",
   "execution_count": 30,
   "id": "cfc0aa0d",
   "metadata": {},
   "outputs": [
    {
     "name": "stdout",
     "output_type": "stream",
     "text": [
      "Null hypothesis rejected and conclusion is that all candiates are not equally popular\n"
     ]
    }
   ],
   "source": [
    "#chi square test\n",
    "data=[41,19,24,16]\n",
    "chi_squre=14.96\n",
    "dof=3\n",
    "alpha=0.05\n",
    "#as dof , alpha and chi square value is given we can get the value under which the chi square should be from the table\n",
    "value=7.815\n",
    "if chi_squre>value:\n",
    "    print('Null hypothesis rejected and conclusion is that all candiates are not equally popular')\n",
    "else:\n",
    "    print(\"Null hypothesis accepted and conclusion is that all candidates are equally popular\")"
   ]
  },
  {
   "cell_type": "markdown",
   "id": "ec5f0888",
   "metadata": {},
   "source": [
    "# Problem Statement 20:\n",
    "Children of three ages are asked to indicate their preference for three photographs of \n",
    "adults. Do the data suggest that there is a significant relationship between age and \n",
    "photograph preference? What is wrong with this study? Chi-Square = 29.6, with 4 \n",
    "df: 𝑝 < 0.05."
   ]
  },
  {
   "cell_type": "code",
   "execution_count": 31,
   "id": "7b712364",
   "metadata": {},
   "outputs": [],
   "source": [
    "data=np.array([[18,22,20],[2,28,40],[20,10,40]])"
   ]
  },
  {
   "cell_type": "code",
   "execution_count": 32,
   "id": "7aa9e650",
   "metadata": {},
   "outputs": [
    {
     "name": "stdout",
     "output_type": "stream",
     "text": [
      "Null Hypothesis is rejected(There is a significant relationship between age and photograph preference)\n"
     ]
    }
   ],
   "source": [
    "value=9.488\n",
    "chi_val=29.6\n",
    "if chi_val>value:\n",
    "    print('Null Hypothesis is rejected(There is a significant relationship between age and photograph preference)')\n",
    "else:\n",
    "    print(\"Null hypothesis is accepted (There is no significant relationship between age and photograph preference)\")"
   ]
  },
  {
   "cell_type": "markdown",
   "id": "bf2921a6",
   "metadata": {},
   "source": [
    "# Problem Statement 21: \n",
    "A study of conformity using the Asch paradigm involved two conditions: one where \n",
    "one confederate supported the true judgement and another where no confederate \n",
    "gave the correct response.\n",
    "Is there a significant difference between the \"support\" and \"no support\" conditions in the \n",
    "frequency with which individuals are likely to conform? Chi-Square = 19.87, with 1 df:\n",
    "𝑝 < 0.05."
   ]
  },
  {
   "cell_type": "code",
   "execution_count": 33,
   "id": "25b00382",
   "metadata": {},
   "outputs": [],
   "source": [
    "#chi square test\n",
    "data=np.array([[18,40],[32,10]])"
   ]
  },
  {
   "cell_type": "code",
   "execution_count": 34,
   "id": "5e47ecb8",
   "metadata": {},
   "outputs": [
    {
     "name": "stdout",
     "output_type": "stream",
     "text": [
      "Null hypothesis is rejected there is a significant difference between 'support' and 'no support'\n"
     ]
    }
   ],
   "source": [
    "chi_square=19.87\n",
    "value=3.841\n",
    "if chi_square>value:\n",
    "    print(\"Null hypothesis is rejected there is a significant difference between 'support' and 'no support'\")\n",
    "else:\n",
    "    print(\"Null hypothesis accepted there is no significant difference between 'support' and 'no support'\")"
   ]
  },
  {
   "cell_type": "markdown",
   "id": "4003f9b8",
   "metadata": {},
   "source": [
    "# Problem Statement 22: \n",
    "We want to test whether short people differ with respect to their leadership qualities \n",
    "(Genghis Khan, Adolf Hitler and Napoleon were all stature-deprived, and how many midget \n",
    "MP's are there?) The following table shows the frequencies with which 43 short people and \n",
    "52 tall people were categorized as \"leaders\", \"followers\" or as \"unclassifiable\". Is there a \n",
    "relationship between height and leadership qualities? \n",
    "Chi-Square = 10.71, with 2 df: 𝑝 < 0.01."
   ]
  },
  {
   "cell_type": "code",
   "execution_count": 35,
   "id": "7e2a4890",
   "metadata": {},
   "outputs": [],
   "source": [
    "#chi square test\n",
    "data=np.array([[12,32],[22,14],[9,6]])"
   ]
  },
  {
   "cell_type": "code",
   "execution_count": 36,
   "id": "49482c8d",
   "metadata": {},
   "outputs": [
    {
     "name": "stdout",
     "output_type": "stream",
     "text": [
      "Null hypothesis is rejected there is a relationship between height and leadership qualities :)\n"
     ]
    }
   ],
   "source": [
    "chi_square=10.71\n",
    "value=9.210\n",
    "if chi_square>value:\n",
    "    print(\"Null hypothesis is rejected there is a relationship between height and leadership qualities :)\")\n",
    "else:\n",
    "    print(\"Null hypothesis accepted there is no relation between height and leadership qualities\")"
   ]
  },
  {
   "cell_type": "markdown",
   "id": "7e6d2e57",
   "metadata": {},
   "source": [
    "# Problem Statement 23: \n",
    "Each respondent in the Current Population Survey of March 1993 was classified as \n",
    "employed, unemployed, or outside the labor force. The results for men in California age 35-\n",
    "44 can be cross-tabulated by marital status, as follows:\n",
    "Men of different marital status seem to have different distributions of labor force status. Or is \n",
    "this just chance variation? (you may assume the table results from a simple random \n",
    "sample.)"
   ]
  },
  {
   "cell_type": "code",
   "execution_count": 37,
   "id": "26e792e2",
   "metadata": {},
   "outputs": [],
   "source": [
    "#chi square test\n",
    "df=pd.DataFrame(data=[[679,103,114],[63,10,20],[42,18,25]],index=['Employed','Unemployed','Not in labor Force'],columns=['Married','Widowed, divorced or seprated','Never Married'])"
   ]
  },
  {
   "cell_type": "code",
   "execution_count": 38,
   "id": "cf6748df",
   "metadata": {},
   "outputs": [
    {
     "name": "stdout",
     "output_type": "stream",
     "text": [
      "Null hypothesis accepted (Marital status and employement status are not dependent)\n"
     ]
    }
   ],
   "source": [
    "dof=4 #Considering alpha as .05\n",
    "chi_val,p_value,dof,exp_value=st.chi2_contingency(observed)\n",
    "value=9.488\n",
    "if chi_val>value:\n",
    "    print(\"Null hypothesis rejected (Marital status and employement status are dependent)\")\n",
    "else:\n",
    "    print(\"Null hypothesis accepted (Marital status and employement status are not dependent)\")"
   ]
  }
 ],
 "metadata": {
  "kernelspec": {
   "display_name": "Python 3",
   "language": "python",
   "name": "python3"
  },
  "language_info": {
   "codemirror_mode": {
    "name": "ipython",
    "version": 3
   },
   "file_extension": ".py",
   "mimetype": "text/x-python",
   "name": "python",
   "nbconvert_exporter": "python",
   "pygments_lexer": "ipython3",
   "version": "3.8.8"
  }
 },
 "nbformat": 4,
 "nbformat_minor": 5
}
