{
 "cells": [
  {
   "cell_type": "markdown",
   "id": "8fdf4b29",
   "metadata": {},
   "source": [
    "![](shiva.jpg)"
   ]
  },
  {
   "cell_type": "markdown",
   "id": "7460c49c",
   "metadata": {},
   "source": [
    "# Calculate the mean, median, mode and standard deviation for the problem statements 1& 2.\n",
    "\n",
    "# Problem Statement 1: \n",
    "The marks awarded for an assignment set for a Year 8 class of 20 students were as \n",
    "follows:\n",
    "6 7 5 7 7 8 7 6 9 7 4 10 6 8 8 9 5 6 4 8"
   ]
  },
  {
   "cell_type": "markdown",
   "id": "0a27ffb1",
   "metadata": {},
   "source": [
    "# Importing necessary modules"
   ]
  },
  {
   "cell_type": "code",
   "execution_count": 1,
   "id": "5b78b178",
   "metadata": {},
   "outputs": [],
   "source": [
    "from statistics import mean,median,mode,stdev\n",
    "import scipy.stats as st\n",
    "import numpy as np\n",
    "import matplotlib.pyplot as plt\n",
    "import seaborn as sns\n",
    "from scipy.integrate import quad"
   ]
  },
  {
   "cell_type": "code",
   "execution_count": 2,
   "id": "fc3d0553",
   "metadata": {},
   "outputs": [],
   "source": [
    "marks=[ 6, 7, 5, 7, 7, 8, 7, 6, 9, 7, 4 ,10 ,6 ,8 ,8 ,9 ,5 ,6 ,4 ,8]"
   ]
  },
  {
   "cell_type": "code",
   "execution_count": 3,
   "id": "4efe23fa",
   "metadata": {},
   "outputs": [
    {
     "name": "stdout",
     "output_type": "stream",
     "text": [
      "mean 6.85\n",
      "median 7.0\n",
      "mode 7\n",
      "stdev 1.6311119875071343\n"
     ]
    }
   ],
   "source": [
    "for i in [mean,median,mode,stdev]:\n",
    "    print(i.__name__,i(marks))"
   ]
  },
  {
   "cell_type": "markdown",
   "id": "96fe3252",
   "metadata": {},
   "source": [
    "# Problem statment - 2\n",
    "The number of calls from motorists per day for roadside service was recorded for a particular month: 28, 122, 217, 130, 120, 86, 80, 90, 140, 120, 70, 40, 145, 113, 90, 68, 174, 194, 170, 100, 75, 104, 97, 75, 123, 100, 75, 104, 97, 75, 123, 100, 89, 120, 109"
   ]
  },
  {
   "cell_type": "code",
   "execution_count": 4,
   "id": "13c31b4e",
   "metadata": {},
   "outputs": [],
   "source": [
    "number_of_calls=[28, 122, 217, 130, 120, 86, 80, 90, 140, 120, 70, 40, 145, 113, 90, 68, 174, 194, 170, 100, 75, 104, 97, 75, 123, 100, 75, 104, 97, 75, 123, 100, 89, 120, 109]"
   ]
  },
  {
   "cell_type": "code",
   "execution_count": 5,
   "id": "644356f2",
   "metadata": {},
   "outputs": [
    {
     "name": "stdout",
     "output_type": "stream",
     "text": [
      "mean 107.51428571428572\n",
      "median 100\n",
      "mode 75\n",
      "stdev 39.33892805484412\n"
     ]
    }
   ],
   "source": [
    "for i in [mean,median,mode,stdev]:\n",
    "    print(i.__name__,i(number_of_calls))"
   ]
  },
  {
   "cell_type": "markdown",
   "id": "961dd745",
   "metadata": {},
   "source": [
    "# Problem Statement 3: \n",
    "The number of times I go to the gym in weekdays, are given below along with its \n",
    "associated probability:\n",
    "x = 0, 1, 2, 3, 4, 5\n",
    "f(x) = 0.09, 0.15, 0.40, 0.25, 0.10, 0.01\n",
    "Calculate the mean no. of workouts in a week. Also evaluate the variance involved in \n",
    "it."
   ]
  },
  {
   "cell_type": "code",
   "execution_count": 6,
   "id": "cc1f050f",
   "metadata": {},
   "outputs": [],
   "source": [
    "import numpy as np\n",
    "x = [0, 1, 2, 3, 4, 5]\n",
    "p = [0.09, 0.15, 0.40, 0.25, 0.10, 0.01]"
   ]
  },
  {
   "cell_type": "code",
   "execution_count": 7,
   "id": "09e3aa04",
   "metadata": {},
   "outputs": [
    {
     "name": "stdout",
     "output_type": "stream",
     "text": [
      "Mean number of workout is -> 2.15\n"
     ]
    }
   ],
   "source": [
    "mean=0\n",
    "for a in range(len(x)):\n",
    "    mean=mean+x[a]*p[a]\n",
    "print(\"Mean number of workout is ->\",mean)"
   ]
  },
  {
   "cell_type": "code",
   "execution_count": 8,
   "id": "e17affcd",
   "metadata": {},
   "outputs": [
    {
     "name": "stdout",
     "output_type": "stream",
     "text": [
      "Variance involved in it is -> 1.2275\n",
      "Standard deviation is -> 1.107925990308017\n"
     ]
    }
   ],
   "source": [
    "var=0\n",
    "for a in range(len(x)):\n",
    "    var=var+p[a]*(x[a]-mean)**2\n",
    "print(\"Variance involved in it is ->\",var)\n",
    "print(\"Standard deviation is ->\",np.sqrt(var))"
   ]
  },
  {
   "cell_type": "markdown",
   "id": "8024b5c8",
   "metadata": {},
   "source": [
    "# Problem Statement 4:\n",
    "Let the continuous random variable D denote the diameter of the hole drilled in an \n",
    "aluminum sheet. The target diameter to be achieved is 12.5mm. Random \n",
    "disturbances in the process often result in inaccuracy.\n",
    "Historical data shows that the distribution of D can be modelled by the PDF (𝑑) = \n",
    "20𝑒−20(𝑑−12.5), 𝑑 ≥ 12.5. If a part with diameter > 12.6 mm needs to be scrapped, \n",
    "what is the proportion of those parts? What is the CDF when the diameter is of 11 \n",
    "mm? What is your conclusion regarding the proportion of scraps?"
   ]
  },
  {
   "cell_type": "code",
   "execution_count": 9,
   "id": "b3e83e77",
   "metadata": {},
   "outputs": [
    {
     "name": "stdout",
     "output_type": "stream",
     "text": [
      "The proportion of the parts with diameter greater than 12.6mm is: 0.13533528323661398\n",
      "The cdf when the diameter is of 11mm is zero\n",
      "The proportion of the parts between 12.5 and 12.6 is: 0.8646647167633718\n",
      "In other words sum of the proportion of the parts between 1.5 and 12.6 and proportion of the parts greater than 12.6 is 1,which indicates that the proportion of the parts less than 12.5 is 0\n"
     ]
    }
   ],
   "source": [
    "def prob_func(d):\n",
    "    return (20*np.exp(-20*(d-12.5)))\n",
    "res=quad(prob_func,a=12.6,b=np.inf)[0]\n",
    "#integral(PDF(d) with limits 12.6,inf)--P(X>12.6)\n",
    "print(\"The proportion of the parts with diameter greater than 12.6mm is:\",res)\n",
    "#If d<12.5, pdf(d)=0\n",
    "print(\"The cdf when the diameter is of 11mm is zero\")\n",
    "#P(X<12.5)=0\n",
    "res1=quad(prob_func,a=12.5,b=12.6)[0]\n",
    "print(\"The proportion of the parts between 12.5 and 12.6 is:\",res1)\n",
    "print(\"In other words sum of the proportion of the parts between 1.5 and 12.6 and proportion of the parts greater than 12.6 is 1,which indicates that the proportion of the parts less than 12.5 is 0\")"
   ]
  },
  {
   "cell_type": "markdown",
   "id": "5c3570a0",
   "metadata": {},
   "source": [
    "# Problem Statement 5: \n",
    "A company manufactures LED bulbs with a faulty rate of 30%. If I randomly select 6 \n",
    "chosen LEDs, what is the probability of having 2 faulty LEDs in my sample? \n",
    "Calculate the average value of this process. Also evaluate the standard deviation \n",
    "associated with it."
   ]
  },
  {
   "cell_type": "code",
   "execution_count": 10,
   "id": "64bd3af5",
   "metadata": {},
   "outputs": [],
   "source": [
    "faulty_rate=30/100\n",
    "n=6"
   ]
  },
  {
   "cell_type": "code",
   "execution_count": 11,
   "id": "ac90072c",
   "metadata": {},
   "outputs": [
    {
     "name": "stdout",
     "output_type": "stream",
     "text": [
      "[0 2 1 ... 2 4 3]\n"
     ]
    }
   ],
   "source": [
    "b=np.random.binomial(n,faulty_rate,size=10000) #i have took sample size as 10000\n",
    "print(b)"
   ]
  },
  {
   "cell_type": "code",
   "execution_count": 12,
   "id": "95ea13af",
   "metadata": {},
   "outputs": [],
   "source": [
    "probability_of_2_faulty_led=np.sum(b==2)/10000 #Out off 10000 binomial distribution what is the probability that 2 are faulty \n",
    "avg=np.mean(b) # mean of binomial distribution\n",
    "std_dev=np.std(b) # standard deviation of binomial distribution"
   ]
  },
  {
   "cell_type": "code",
   "execution_count": 13,
   "id": "e6d5801a",
   "metadata": {},
   "outputs": [
    {
     "name": "stdout",
     "output_type": "stream",
     "text": [
      "Probability of 2 faulty rate 0.3209\n",
      "Average Value in process 1.7992\n",
      "Standard deviation associated with it 1.1189635204062731\n"
     ]
    }
   ],
   "source": [
    "print(\"Probability of 2 faulty rate\",probability_of_2_faulty_led)\n",
    "print(\"Average Value in process\",avg)\n",
    "print(\"Standard deviation associated with it\",std_dev)"
   ]
  },
  {
   "cell_type": "markdown",
   "id": "dc7d9364",
   "metadata": {},
   "source": [
    "# Problem Statement 6:\n",
    "Gaurav and Barakha are both preparing for entrance exams. Gaurav attempts to \n",
    "solve 8 questions per day with a correction rate of 75%, while Barakha averages \n",
    "around 12 questions per day with a correction rate of 45%. What is the probability \n",
    "that each of them will solve 5 questions correctly? What happens in cases of 4 and 6 \n",
    "correct solutions? What do you infer from it? What are the two main governing \n",
    "factors affecting their ability to solve questions correctly? Give a pictorial \n",
    "representation of the same to validate your answer."
   ]
  },
  {
   "cell_type": "code",
   "execution_count": 14,
   "id": "b134d97e",
   "metadata": {},
   "outputs": [],
   "source": [
    "gaurav_dist=np.random.binomial(8,0.75,100)\n",
    "barkha_dist=np.random.binomial(12,0.45,100)"
   ]
  },
  {
   "cell_type": "code",
   "execution_count": 15,
   "id": "99b0f1e6",
   "metadata": {},
   "outputs": [
    {
     "name": "stdout",
     "output_type": "stream",
     "text": [
      "Probability of gaurav solving 5 question correctly is 0.09\n",
      "Probability of barkha solving 5 question correctly is 0.13\n",
      "Probability of gaurav solving 4 question correctly is 0.16\n",
      "Probability of barkha solving 4 question correctly is 0.23\n",
      "Probability of gaurav solving 6 question correctly is 0.32\n",
      "Probability of barkha solving 6 question correctly is 0.22\n"
     ]
    }
   ],
   "source": [
    "gaurav_prob=[]\n",
    "barkha_prob=[]\n",
    "for i in range(9):\n",
    "    if i in [4,5,6]:\n",
    "        gaurav_prob.append(np.sum(gaurav_dist==i)/100)\n",
    "        barkha_prob.append(np.sum(barkha_dist==i)/100)\n",
    "    else:\n",
    "        pass\n",
    "print('Probability of gaurav solving 5 question correctly is',gaurav_prob[0])\n",
    "print('Probability of barkha solving 5 question correctly is',barkha_prob[0])\n",
    "print('Probability of gaurav solving 4 question correctly is',gaurav_prob[1])\n",
    "print('Probability of barkha solving 4 question correctly is',barkha_prob[1])\n",
    "print('Probability of gaurav solving 6 question correctly is',gaurav_prob[2])\n",
    "print('Probability of barkha solving 6 question correctly is',barkha_prob[2])"
   ]
  },
  {
   "cell_type": "code",
   "execution_count": 16,
   "id": "c4aa68dd",
   "metadata": {},
   "outputs": [
    {
     "data": {
      "image/png": "[encoded data removed]",
      "text/plain": [
       "<Figure size 432x288 with 1 Axes>"
      ]
     },
     "metadata": {
      "needs_background": "light"
     },
     "output_type": "display_data"
    }
   ],
   "source": [
    "x=[i for i in range(3)]\n",
    "plt.plot(x,gaurav_prob)\n",
    "plt.xlabel(\"Correct questions\")\n",
    "plt.ylabel(\"P(x)\")\n",
    "plt.title(\"Probability distribution of Gaurav with p=0.75,n=8\");"
   ]
  },
  {
   "cell_type": "code",
   "execution_count": 17,
   "id": "95ed9a15",
   "metadata": {},
   "outputs": [
    {
     "data": {
      "image/png": "[encoded data removed]",
      "text/plain": [
       "<Figure size 432x288 with 1 Axes>"
      ]
     },
     "metadata": {
      "needs_background": "light"
     },
     "output_type": "display_data"
    }
   ],
   "source": [
    "plt.plot(x,barkha_prob)\n",
    "plt.xlabel(\"Correct questions\")\n",
    "plt.ylabel(\"P(x)\")\n",
    "plt.title(\"Probability distribution of Barkha with p=0.45,n=12\");"
   ]
  },
  {
   "cell_type": "code",
   "execution_count": 18,
   "id": "1001a03a",
   "metadata": {},
   "outputs": [
    {
     "data": {
      "image/png": "[encoded data removed]",
      "text/plain": [
       "<Figure size 432x288 with 1 Axes>"
      ]
     },
     "metadata": {
      "needs_background": "light"
     },
     "output_type": "display_data"
    }
   ],
   "source": [
    "plt.plot(x,gaurav_prob,label=\"Gaurav\")\n",
    "plt.plot(x,barkha_prob,label='Barkha')\n",
    "plt.xlabel(\"Correct questions\")\n",
    "plt.ylabel(\"P(x)\")\n",
    "plt.legend()\n",
    "plt.title(\"Probability distribution of gaurav and Barkha \");"
   ]
  },
  {
   "cell_type": "markdown",
   "id": "f93eef4c",
   "metadata": {},
   "source": [
    "# Problem Statement 7:\n",
    "Customers arrive at a rate of 72 per hour to my shop. What is the probability of 𝑘\n",
    "customers arriving in 4 minutes? a) 5 customers, b) not more than 3 customers, c) \n",
    "more than 3 customers. Give a pictorial representation of the same to validate your \n",
    "answer."
   ]
  },
  {
   "cell_type": "code",
   "execution_count": 19,
   "id": "7bea3a08",
   "metadata": {},
   "outputs": [
    {
     "name": "stdout",
     "output_type": "stream",
     "text": [
      "Probability of 5 customers is 0.189\n",
      "Probability of not more than 3 customers is 0.275\n",
      "Probability of more than 3 customers is 0.725\n"
     ]
    }
   ],
   "source": [
    "customers_per_min=72/60\n",
    "customer_4_min=customers_per_min*4 # as mentioned customers arriving in 4 mins so multiplying by 4\n",
    "distribution=np.random.poisson(customer_4_min,1000) # poisson distribution\n",
    "probability_of_5_customers=np.sum(distribution==5)/1000\n",
    "probability_not_more_than_3_customers=np.sum(distribution<=3)/1000\n",
    "probability_more_than_3_customers=np.sum(distribution>3)/1000\n",
    "print('Probability of 5 customers is',probability_of_5_customers)\n",
    "print('Probability of not more than 3 customers is',probability_not_more_than_3_customers)\n",
    "print('Probability of more than 3 customers is',probability_more_than_3_customers)"
   ]
  },
  {
   "cell_type": "code",
   "execution_count": 20,
   "id": "ec8292aa",
   "metadata": {},
   "outputs": [
    {
     "data": {
      "image/png": "[encoded data removed]",
      "text/plain": [
       "<Figure size 432x288 with 1 Axes>"
      ]
     },
     "metadata": {
      "needs_background": "light"
     },
     "output_type": "display_data"
    }
   ],
   "source": [
    "sns.kdeplot(distribution,color='red')\n",
    "plt.title('Pictorial representation');"
   ]
  },
  {
   "cell_type": "markdown",
   "id": "b1c7d52f",
   "metadata": {},
   "source": [
    "# Problem Statement 8:\n",
    "I work as a data analyst in Aeon Learning Pvt. Ltd. After analyzing data, I make \n",
    "reports, where I have the efficiency of entering 77 words per minute with 6 errors per \n",
    "hour. What is the probability that I will commit 2 errors in a 455-word financial report?\n",
    "What happens when the no. of words increases/decreases (in case of 1000 words, \n",
    "255 words)? \n",
    "How is the 𝜆 affected?\n",
    "How does it influence the PMF? \n",
    "Give a pictorial representation of the same to validate your answer."
   ]
  },
  {
   "cell_type": "code",
   "execution_count": 21,
   "id": "2280e2fd",
   "metadata": {},
   "outputs": [
    {
     "name": "stdout",
     "output_type": "stream",
     "text": [
      "Probability that 2 error will be commited in 455 word is 0.045\n",
      "After seeing the graph we can state that as the number of word increases the probability of getting two error also increases it has a positive relation.\n"
     ]
    },
    {
     "data": {
      "image/png": "[encoded data removed]",
      "text/plain": [
       "<Figure size 432x288 with 1 Axes>"
      ]
     },
     "metadata": {
      "needs_background": "light"
     },
     "output_type": "display_data"
    }
   ],
   "source": [
    "err_per_min=6/60 #error per min\n",
    "no_of_word_per_min=77\n",
    "words=[255,455,1000]\n",
    "prob=[]\n",
    "for i in words:\n",
    "    lam=(i/no_of_word_per_min)*err_per_min\n",
    "    dist=np.random.poisson(lam,1000)\n",
    "    prob.append(np.sum(dist==2)/1000)\n",
    "print('Probability that 2 error will be commited in 455 word is',prob[0])\n",
    "plt.plot(words,prob)\n",
    "plt.xlabel(\"Number of words\",size=15)\n",
    "plt.ylabel(\"Probability of 2 errors\",size=15)\n",
    "plt.title('Pictorial representation');\n",
    "print('After seeing the graph we can state that as the number of word increases the probability of getting two error also increases it has a positive relation.')"
   ]
  },
  {
   "cell_type": "markdown",
   "id": "14c776f5",
   "metadata": {},
   "source": [
    "# Problem Statement 9:\n",
    "Let the continuous random variable D denote the diameter of the hole drilled in an \n",
    "aluminum sheet. The target diameter to be achieved is 12.5mm. Random \n",
    "disturbances in the process often result in inaccuracy.\n",
    "Historical data shows that the distribution of D can be modelled by the PDF, f(d) = \n",
    "20e−20(d−12.5), d ≥ 12.5. If a part with diameter > 12.6 mm needs to be scrapped, \n",
    "what is the proportion of those parts? What is the CDF when the diameter is of 11 \n",
    "mm?\n",
    "What is the conclusion of this experiment?\n",
    "\n",
    "__Same as 4__"
   ]
  },
  {
   "cell_type": "markdown",
   "id": "02e4f1b4",
   "metadata": {},
   "source": [
    "# Problem Statement 10:\n",
    "Please compute the following:\n",
    "a) P(Z > 1.26), . P(Z < −0.86), P(Z > −1.37), P(−1.25 < Z < 0.37), . P(Z ≤ −4.6)\n",
    "b) Find the value 𝑧 such that 𝑃(𝑍 > 𝑧) = 0.05\n",
    "c) Find the value of 𝑧 such that 𝑃(−𝑧 < 𝑍 < 𝑧) = 0.99"
   ]
  },
  {
   "cell_type": "code",
   "execution_count": 22,
   "id": "e4d10826",
   "metadata": {},
   "outputs": [
    {
     "name": "stdout",
     "output_type": "stream",
     "text": [
      "P(Z > 1.26) :  0.10383468112130045\n",
      "P(Z < −0.86): 0.1948945212518084\n",
      "P(Z > −1.37): 0.914656549178033\n",
      "P(−1.25 < Z < 0.37): 0.5386589811336914\n",
      "P(Z ≤ −4.6): 2.1124547024964357e-06\n",
      "Value 𝑧 such that 𝑃(𝑍 > 𝑧) = 0.05: 1.6448536269514729\n",
      "Value of 𝑧 such that 𝑃(−𝑧 < 𝑍 < 𝑧): 2.3263478740408408\n"
     ]
    }
   ],
   "source": [
    "print(\"P(Z > 1.26) : \",1-(st.norm.cdf(1.26)))\n",
    "print(\"P(Z < −0.86):\",st.norm.cdf(-0.86))\n",
    "print(\"P(Z > −1.37):\",1-(st.norm.cdf(-1.37)))\n",
    "print(\"P(−1.25 < Z < 0.37):\",(st.norm.cdf(0.37)-st.norm.cdf(-1.25)))\n",
    "print(\"P(Z ≤ −4.6):\",1-(st.norm.cdf(4.6)))\n",
    "print(\"Value 𝑧 such that 𝑃(𝑍 > 𝑧) = 0.05:\",np.absolute(st.norm.ppf(0.05)))\n",
    "print(\"Value of 𝑧 such that 𝑃(−𝑧 < 𝑍 < 𝑧):\",st.norm.ppf(0.99))"
   ]
  },
  {
   "cell_type": "markdown",
   "id": "3b588186",
   "metadata": {},
   "source": [
    "# Problem Statement 11:\n",
    "The current flow in a copper wire follow a normal distribution with a mean of 10 𝑚A \n",
    "and a variance of 4 (𝑚𝐴)2. \n",
    "What is the probability that a current measurement will exceed 13 𝑚𝐴? What is the \n",
    "probability that a current measurement is between 9 and 11mA? Determine the \n",
    "current measurement which has a probability of 0.98."
   ]
  },
  {
   "cell_type": "code",
   "execution_count": 23,
   "id": "9c540613",
   "metadata": {},
   "outputs": [
    {
     "name": "stdout",
     "output_type": "stream",
     "text": [
      "Probability that a current measurement will exceed 13 𝑚𝐴 is 0.06680720126885809\n",
      "Probability that a current measurement is between 9 and 11mA => 0.38292492254802624\n",
      "Current measurement which has a probability of 0.98 is 14.107497821263646\n"
     ]
    }
   ],
   "source": [
    "#mean=10 and std dev=2 (square root of variance)\n",
    "print(\"Probability that a current measurement will exceed 13 𝑚𝐴 is\",1-(st.norm.cdf(13,10,2)))\n",
    "print(\"Probability that a current measurement is between 9 and 11mA =>\",(st.norm.cdf(11,10,2)-st.norm.cdf(9,10,2)))\n",
    "print(\"Current measurement which has a probability of 0.98 is\",st.norm.ppf(0.98,10,2))"
   ]
  },
  {
   "cell_type": "markdown",
   "id": "3488a621",
   "metadata": {},
   "source": [
    "# Problem Statement 12:\n",
    "The shaft in a piston has its diameter normally distributed with a mean of 0.2508 inch \n",
    "and a standard deviation of 0.0005 inch. The specifications of the shaft are 0.2500 ∓\n",
    "0.0015 inch. What proportion of shafts are in sync with the specifications? If the \n",
    "process is centered so that the mean is equal to the target value of 0.2500, what \n",
    "proportion of shafts conform to the new specifications? What is your conclusion from \n",
    "this experiment?"
   ]
  },
  {
   "cell_type": "code",
   "execution_count": 24,
   "id": "65f9353a",
   "metadata": {},
   "outputs": [
    {
     "name": "stdout",
     "output_type": "stream",
     "text": [
      "Before centering the process 0.91924122831152\n",
      "After centering the process 0.9973002039367398\n"
     ]
    }
   ],
   "source": [
    "mean=0.2508\n",
    "std=0.0005\n",
    "lower=0.2485#0.2500-0.0015\n",
    "upper=0.2515#0.2500+0.0015\n",
    "new_mean=0.2500\n",
    "print('Before centering the process',st.norm.cdf(upper,mean,std)-st.norm.cdf(lower,mean,std))\n",
    "print('After centering the process',st.norm.cdf(upper,new_mean,std)-st.norm.cdf(lower,new_mean,std))"
   ]
  }
 ],
 "metadata": {
  "kernelspec": {
   "display_name": "Python 3",
   "language": "python",
   "name": "python3"
  },
  "language_info": {
   "codemirror_mode": {
    "name": "ipython",
    "version": 3
   },
   "file_extension": ".py",
   "mimetype": "text/x-python",
   "name": "python",
   "nbconvert_exporter": "python",
   "pygments_lexer": "ipython3",
   "version": "3.8.8"
  }
 },
 "nbformat": 4,
 "nbformat_minor": 5
}
